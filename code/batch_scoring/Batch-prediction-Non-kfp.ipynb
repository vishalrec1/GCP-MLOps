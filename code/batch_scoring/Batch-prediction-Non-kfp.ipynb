{
 "cells": [
  {
   "cell_type": "code",
   "execution_count": 1,
   "id": "4dc0d19d",
   "metadata": {},
   "outputs": [],
   "source": [
    "from google.cloud import aiplatform\n",
    "import os"
   ]
  },
  {
   "cell_type": "code",
   "execution_count": 2,
   "id": "d8bf4abb",
   "metadata": {},
   "outputs": [],
   "source": [
    "os.environ['GOOGLE_APPLICATION_CREDENTIALS']= \"L:\\\\gcp-practice-0123-bd3866a21b22.json\""
   ]
  },
  {
   "cell_type": "code",
   "execution_count": 3,
   "id": "b5fe84dd",
   "metadata": {},
   "outputs": [],
   "source": [
    "PROJECT_ID                 = 'gcp-practice-0123'\n",
    "REGION                     = 'us-central1'\n",
    "MACHINE_TYPE               = 'e2-standard-4'\n",
    "BUCKET_URI                 = 'gcp-practice-0123-18jun2023/custom-trained-model/model/'"
   ]
  },
  {
   "cell_type": "code",
   "execution_count": 4,
   "id": "15e64835",
   "metadata": {},
   "outputs": [],
   "source": [
    "aiplatform.init(project        = PROJECT_ID,\n",
    "                location       = REGION,\n",
    "                staging_bucket = BUCKET_URI)"
   ]
  },
  {
   "cell_type": "code",
   "execution_count": 35,
   "id": "3205337f",
   "metadata": {},
   "outputs": [],
   "source": [
    "def create_endpoint(endpoint_display_name_in:str, \n",
    "                     project_in:str\n",
    "                   ) -> str:\n",
    "    print(\"\\n\\n***Creating Endpoint....\")\n",
    "    from google.cloud import aiplatform\n",
    "    aiplatform.init(project=project_in)\n",
    "    endpoint = aiplatform.Endpoint.create(project      = project_in,\n",
    "                                          display_name = endpoint_display_name_in\n",
    "                                         )\n",
    "    print(\"***The End Point Project is : \",endpoint.project)\n",
    "    print(\"***The Private End point resource name is : \",endpoint.resource_name)\n",
    "    #vertex_endpoint.uri = endpoint.resource_name\n",
    "    return endpoint.resource_name"
   ]
  },
  {
   "cell_type": "code",
   "execution_count": 36,
   "id": "e176fe84",
   "metadata": {},
   "outputs": [],
   "source": [
    "def deploy_model(project_in:str,\n",
    "                  model_display_name_in : str,\n",
    "                  model_resource_nm_in:str,\n",
    "                  endpoint_in : str\n",
    "                ):\n",
    "    print(\"\\n\\n***Deploying Model....\")\n",
    "    from google.cloud import aiplatform\n",
    "    aiplatform.init(project=project_in)\n",
    "    model_obj = aiplatform.Model(model_resource_nm_in)\n",
    "    endpoin_obj = aiplatform.Endpoint(endpoint_in)\n",
    "    deployed_model = model_obj.deploy(endpoint                    = endpoin_obj,\n",
    "                                      deployed_model_display_name = model_display_name_in,\n",
    "                                      min_replica_count           = 1,\n",
    "                                      max_replica_count           = 1,\n",
    "                                      traffic_split               = {\"0\":100}\n",
    "                                     )"
   ]
  },
  {
   "cell_type": "code",
   "execution_count": 37,
   "id": "ba42f700",
   "metadata": {},
   "outputs": [],
   "source": [
    "def register_model(project_in:str,\n",
    "                    model_display_name_in : str,\n",
    "                    model_gcs_path_in : str,\n",
    "                    serving_container_in : str\n",
    "                  ) -> str:\n",
    "    print(\"\\n\\n***Registering Model....\")\n",
    "    from google.cloud import aiplatform\n",
    "    aiplatform.init(project=project_in)\n",
    "    my_model = aiplatform.Model.upload( project                     = project_in,\n",
    "                                        display_name                = model_display_name_in,\n",
    "                                        serving_container_image_uri = serving_container_in,\n",
    "                                        artifact_uri                = model_gcs_path_in\n",
    "                                      )\n",
    "    print(\"***Model Resource Name is : \", my_model.resource_name)\n",
    "    return my_model.resource_name"
   ]
  },
  {
   "cell_type": "code",
   "execution_count": 5,
   "id": "23b116ad",
   "metadata": {},
   "outputs": [],
   "source": [
    "def batch_prediction( project_in:str,\n",
    "                      model_display_name_in:str,\n",
    "                      model_resource_nm_in:str,\n",
    "                      bigquery_source_in:str,\n",
    "                      bigquery_destination_prefix_in:str,\n",
    "                      predictions_format_in:str,\n",
    "                      machine_type_in:str\n",
    "                    ):\n",
    "    print(\"\\n\\nDoing Batch Prediction...\")\n",
    "    from google.cloud import aiplatform\n",
    "    aiplatform.init(project=project_in)\n",
    "    model_obj = aiplatform.Model(model_resource_nm_in)\n",
    "    batch_predict_job = model_obj.batch_predict( job_display_name            = model_display_name_in,\n",
    "                                                 bigquery_source             = bigquery_source_in,\n",
    "                                                 bigquery_destination_prefix = bigquery_destination_prefix_in,\n",
    "                                                 predictions_format          = predictions_format_in,\n",
    "                                                 machine_type                = machine_type_in\n",
    "                                               )"
   ]
  },
  {
   "cell_type": "code",
   "execution_count": 39,
   "id": "167c4333",
   "metadata": {},
   "outputs": [],
   "source": [
    "def loadBigQueryTableFromGCS(project_in:str,bucket_uri_in:str):\n",
    "    from google.cloud import bigquery\n",
    "    client = bigquery.Client(project=project_in,location='us-central1')\n",
    "    job_config = bigquery.LoadJobConfig(\n",
    "                                        schema=[\n",
    "                                            bigquery.SchemaField(\"longitude\",           \"FLOAT\"),\n",
    "                                            bigquery.SchemaField(\"latitude\",            \"FLOAT\"),\n",
    "                                            bigquery.SchemaField(\"housing_median_age\",  \"FLOAT\"),\n",
    "                                            bigquery.SchemaField(\"total_rooms\",         \"FLOAT\"),\n",
    "                                            bigquery.SchemaField(\"total_bedrooms\",      \"FLOAT\"),\n",
    "                                            bigquery.SchemaField(\"population\",          \"FLOAT\"),\n",
    "                                            bigquery.SchemaField(\"households\",          \"FLOAT\"),\n",
    "                                            bigquery.SchemaField(\"median_income\",       \"FLOAT\"),\n",
    "                                            bigquery.SchemaField(\"median_house_value\",  \"FLOAT\")\n",
    "                                        ],\n",
    "                                        skip_leading_rows = 1,\n",
    "                                        # The source format defaults to CSV, so the line below is optional.\n",
    "                                        source_format = bigquery.SourceFormat.CSV,\n",
    "                                    )\n",
    "    uri      = bucket_uri_in+'/california_housing_train.csv'\n",
    "    table_id = 'gcp-practice-0123.dataset2.california_housing_test'\n",
    "    load_job = client.load_table_from_uri(source_uris = uri,\n",
    "                                          destination = table_id,\n",
    "                                          job_config  = job_config)  # Make an API request.\n",
    "    load_job.result()"
   ]
  },
  {
   "cell_type": "code",
   "execution_count": 40,
   "id": "a27e9024",
   "metadata": {},
   "outputs": [],
   "source": [
    "def mlopsDeployPipeline(project_in:str,\n",
    "                        endpoint_display_name_in:str,\n",
    "                        model_gcs_path_in:str,\n",
    "                        serving_container_in:str,\n",
    "                        bigquery_source_in:str,\n",
    "                        bigquery_destination_prefix_in:str,\n",
    "                        predictions_format_in:str,\n",
    "                        machine_type_in:str,\n",
    "                        bucket_uri_in:str\n",
    "                       ):\n",
    "    #from create_endpoint import create_endpoint\n",
    "    #from upload_model import register_model\n",
    "    #from deploy_model import deploy_model\n",
    "    #from batch_prediction import batch_prediction\n",
    "    #from loadBigQueryTableFromGCS import loadBigQueryTableFromGCS\n",
    "    \n",
    "    endpoint_op = create_endpoint(endpoint_display_name_in,\n",
    "                                  project_in\n",
    "                                 )\n",
    "    \n",
    "    model_op = register_model(project_in,\n",
    "                              endpoint_display_name_in,\n",
    "                              model_gcs_path_in,\n",
    "                              serving_container_in\n",
    "                             )\n",
    "\n",
    "    deploy_model(project_in,\n",
    "                 endpoint_display_name_in,\n",
    "                 model_op,\n",
    "                 endpoint_op\n",
    "                )\n",
    "    \n",
    "    loadBigQueryTableFromGCS(project_in,\n",
    "                             bucket_uri_in\n",
    "                            )\n",
    "    \n",
    "    batch_prediction(project_in,\n",
    "                     endpoint_display_name_in,\n",
    "                     model_op,\n",
    "                     bigquery_source_in,\n",
    "                     bigquery_destination_prefix_in,\n",
    "                     predictions_format_in,\n",
    "                     machine_type_in)"
   ]
  },
  {
   "cell_type": "code",
   "execution_count": 41,
   "id": "bd56650c",
   "metadata": {},
   "outputs": [
    {
     "name": "stdout",
     "output_type": "stream",
     "text": [
      "\n",
      "\n",
      "***Creating Endpoint....\n",
      "Creating Endpoint\n",
      "Create Endpoint backing LRO: projects/553411498874/locations/us-central1/endpoints/389900017348902912/operations/786692666933903360\n",
      "Endpoint created. Resource name: projects/553411498874/locations/us-central1/endpoints/389900017348902912\n",
      "To use this Endpoint in another session:\n",
      "endpoint = aiplatform.Endpoint('projects/553411498874/locations/us-central1/endpoints/389900017348902912')\n",
      "***The End Point Project is :  gcp-practice-0123\n",
      "***The Private End point resource name is :  projects/553411498874/locations/us-central1/endpoints/389900017348902912\n",
      "\n",
      "\n",
      "***Registering Model....\n",
      "Creating Model\n",
      "Create Model backing LRO: projects/553411498874/locations/us-central1/models/295005566802067456/operations/1921599773031268352\n",
      "Model created. Resource name: projects/553411498874/locations/us-central1/models/295005566802067456@1\n",
      "To use this Model in another session:\n",
      "model = aiplatform.Model('projects/553411498874/locations/us-central1/models/295005566802067456@1')\n",
      "***Model Resource Name is :  projects/553411498874/locations/us-central1/models/295005566802067456\n",
      "\n",
      "\n",
      "***Deploying Model....\n",
      "Deploying model to Endpoint : projects/553411498874/locations/us-central1/endpoints/389900017348902912\n",
      "Using default machine_type: n1-standard-2\n",
      "Deploy Endpoint model backing LRO: projects/553411498874/locations/us-central1/endpoints/389900017348902912/operations/282289508668407808\n",
      "Endpoint model deployed. Resource name: projects/553411498874/locations/us-central1/endpoints/389900017348902912\n",
      "\n",
      "\n",
      "Doing Batch Prediction...\n",
      "Creating BatchPredictionJob\n",
      "BatchPredictionJob created. Resource name: projects/553411498874/locations/us-central1/batchPredictionJobs/5481130473088352256\n",
      "To use this BatchPredictionJob in another session:\n",
      "bpj = aiplatform.BatchPredictionJob('projects/553411498874/locations/us-central1/batchPredictionJobs/5481130473088352256')\n",
      "View Batch Prediction Job:\n",
      "https://console.cloud.google.com/ai/platform/locations/us-central1/batch-predictions/5481130473088352256?project=553411498874\n",
      "BatchPredictionJob projects/553411498874/locations/us-central1/batchPredictionJobs/5481130473088352256 current state:\n",
      "JobState.JOB_STATE_PENDING\n",
      "BatchPredictionJob projects/553411498874/locations/us-central1/batchPredictionJobs/5481130473088352256 current state:\n",
      "JobState.JOB_STATE_RUNNING\n",
      "BatchPredictionJob projects/553411498874/locations/us-central1/batchPredictionJobs/5481130473088352256 current state:\n",
      "JobState.JOB_STATE_RUNNING\n",
      "BatchPredictionJob projects/553411498874/locations/us-central1/batchPredictionJobs/5481130473088352256 current state:\n",
      "JobState.JOB_STATE_RUNNING\n",
      "BatchPredictionJob projects/553411498874/locations/us-central1/batchPredictionJobs/5481130473088352256 current state:\n",
      "JobState.JOB_STATE_RUNNING\n",
      "BatchPredictionJob projects/553411498874/locations/us-central1/batchPredictionJobs/5481130473088352256 current state:\n",
      "JobState.JOB_STATE_RUNNING\n",
      "BatchPredictionJob projects/553411498874/locations/us-central1/batchPredictionJobs/5481130473088352256 current state:\n",
      "JobState.JOB_STATE_RUNNING\n",
      "BatchPredictionJob projects/553411498874/locations/us-central1/batchPredictionJobs/5481130473088352256 current state:\n",
      "JobState.JOB_STATE_RUNNING\n",
      "BatchPredictionJob projects/553411498874/locations/us-central1/batchPredictionJobs/5481130473088352256 current state:\n",
      "JobState.JOB_STATE_RUNNING\n",
      "BatchPredictionJob projects/553411498874/locations/us-central1/batchPredictionJobs/5481130473088352256 current state:\n",
      "JobState.JOB_STATE_SUCCEEDED\n",
      "BatchPredictionJob run completed. Resource name: projects/553411498874/locations/us-central1/batchPredictionJobs/5481130473088352256\n"
     ]
    }
   ],
   "source": [
    "mlopsDeployPipeline(PROJECT_ID,\n",
    "                    'mlops-pipeline-test',\n",
    "                    'gs://gcp-practice-0123-18jun2023/custom-trained-model/model/aiplatform-custom-training-2023-01-22-18:07:17.227/model',\n",
    "                    \"us-docker.pkg.dev/vertex-ai/prediction/sklearn-cpu.1-0:latest\",\n",
    "                    \"bq://gcp-practice-0123.dataset2.california_housing_test\",\n",
    "                    'bq://gcp-practice-0123.dataset2',\n",
    "                    \"bigquery\",\n",
    "                    \"e2-standard-4\",\n",
    "                    \"gs://gcp-practice-0123-18jun2023/custom-trained-model/training-data\"\n",
    "                   )"
   ]
  },
  {
   "cell_type": "code",
   "execution_count": null,
   "id": "51e37806",
   "metadata": {},
   "outputs": [],
   "source": []
  },
  {
   "cell_type": "code",
   "execution_count": null,
   "id": "8b4ae62d",
   "metadata": {},
   "outputs": [],
   "source": []
  },
  {
   "cell_type": "code",
   "execution_count": 43,
   "id": "09ea2aab",
   "metadata": {},
   "outputs": [
    {
     "name": "stdout",
     "output_type": "stream",
     "text": [
      "Collecting build\n",
      "  Downloading build-0.10.0-py3-none-any.whl (17 kB)\n",
      "Requirement already satisfied: tomli>=1.1.0 in d:\\anaconda3\\lib\\site-packages (from build) (2.0.1)\n",
      "Collecting pyproject_hooks\n",
      "  Downloading pyproject_hooks-1.0.0-py3-none-any.whl (9.3 kB)\n",
      "Requirement already satisfied: packaging>=19.0 in d:\\anaconda3\\lib\\site-packages (from build) (21.3)\n",
      "Requirement already satisfied: colorama in d:\\anaconda3\\lib\\site-packages (from build) (0.4.5)\n",
      "Requirement already satisfied: pyparsing!=3.0.5,>=2.0.2 in d:\\anaconda3\\lib\\site-packages (from packaging>=19.0->build) (3.0.9)\n",
      "Installing collected packages: pyproject_hooks, build\n",
      "Successfully installed build-0.10.0 pyproject_hooks-1.0.0\n",
      "Note: you may need to restart the kernel to use updated packages.\n"
     ]
    }
   ],
   "source": [
    "pip install build"
   ]
  },
  {
   "cell_type": "code",
   "execution_count": 2,
   "id": "136f0a70",
   "metadata": {},
   "outputs": [],
   "source": [
    "import build"
   ]
  },
  {
   "cell_type": "code",
   "execution_count": 20,
   "id": "59480d8c",
   "metadata": {},
   "outputs": [],
   "source": [
    "def loadBigQueryTableFromGCS(project_in:str,bucket_uri_in:str):\n",
    "    from google.cloud import bigquery\n",
    "    client = bigquery.Client(project=project_in,location='us-central1')\n",
    "    job_config = bigquery.LoadJobConfig(\n",
    "                                        schema=[\n",
    "                                            bigquery.SchemaField(\"longitude\",           \"FLOAT\"),\n",
    "                                            bigquery.SchemaField(\"latitude\",            \"FLOAT\"),\n",
    "                                            bigquery.SchemaField(\"housing_median_age\",  \"FLOAT\"),\n",
    "                                            bigquery.SchemaField(\"total_rooms\",         \"FLOAT\"),\n",
    "                                            bigquery.SchemaField(\"total_bedrooms\",      \"FLOAT\"),\n",
    "                                            bigquery.SchemaField(\"population\",          \"FLOAT\"),\n",
    "                                            bigquery.SchemaField(\"households\",          \"FLOAT\"),\n",
    "                                            bigquery.SchemaField(\"median_income\",       \"FLOAT\"),\n",
    "                                            bigquery.SchemaField(\"median_house_value\",  \"FLOAT\")\n",
    "                                        ],\n",
    "                                        skip_leading_rows = 1,\n",
    "                                        # The source format defaults to CSV, so the line below is optional.\n",
    "                                        source_format = bigquery.SourceFormat.CSV,\n",
    "                                    )\n",
    "    uri      = bucket_uri_in+'/california_housing_train.csv'\n",
    "    table_id = 'gcp-practice-0123.dataset2.california_housing_test'\n",
    "    load_job = client.load_table_from_uri(source_uris = uri,\n",
    "                                          destination = table_id,\n",
    "                                          job_config  = job_config)  # Make an API request.\n",
    "    load_job.result()"
   ]
  },
  {
   "cell_type": "code",
   "execution_count": 21,
   "id": "7409676f",
   "metadata": {},
   "outputs": [],
   "source": [
    "loadBigQueryTableFromGCS(PROJECT_ID,\"gs://gcp-practice-0123-18jun2023/custom-trained-model/training-data\")"
   ]
  },
  {
   "cell_type": "code",
   "execution_count": null,
   "id": "4a294448",
   "metadata": {},
   "outputs": [],
   "source": [
    "loa"
   ]
  },
  {
   "cell_type": "code",
   "execution_count": null,
   "id": "566152e4",
   "metadata": {},
   "outputs": [],
   "source": []
  },
  {
   "cell_type": "code",
   "execution_count": null,
   "id": "c11b4692",
   "metadata": {},
   "outputs": [],
   "source": []
  },
  {
   "cell_type": "code",
   "execution_count": 6,
   "id": "1c36e08c",
   "metadata": {},
   "outputs": [],
   "source": [
    "model = aiplatform.Model('projects/553411498874/locations/us-central1/models/847259471108374528@1')"
   ]
  },
  {
   "cell_type": "code",
   "execution_count": 25,
   "id": "82a0f132",
   "metadata": {},
   "outputs": [],
   "source": [
    "model = aiplatform.Model('projects/553411498874/locations/us-central1/models/847259471108374528')"
   ]
  },
  {
   "cell_type": "code",
   "execution_count": 26,
   "id": "1f01df2c",
   "metadata": {},
   "outputs": [
    {
     "data": {
      "text/plain": [
       "<google.cloud.aiplatform.models.Model object at 0x000001FDA5FF0C40> \n",
       "resource name: projects/553411498874/locations/us-central1/models/847259471108374528"
      ]
     },
     "execution_count": 26,
     "metadata": {},
     "output_type": "execute_result"
    }
   ],
   "source": [
    "model"
   ]
  },
  {
   "cell_type": "code",
   "execution_count": 30,
   "id": "539ea714",
   "metadata": {},
   "outputs": [],
   "source": [
    "model = aiplatform.Model(model_name='projects/553411498874/locations/us-central1/models/847259471108374528',\n",
    "                         version=1\n",
    "                        )"
   ]
  },
  {
   "cell_type": "code",
   "execution_count": null,
   "id": "1e320b84",
   "metadata": {},
   "outputs": [],
   "source": [
    "model.batch_predict()"
   ]
  },
  {
   "cell_type": "code",
   "execution_count": 8,
   "id": "a8177e92",
   "metadata": {},
   "outputs": [],
   "source": [
    "from google.cloud import bigquery\n",
    "client = bigquery.Client(project=PROJECT_ID,location='us-central1')\n",
    "client."
   ]
  },
  {
   "cell_type": "code",
   "execution_count": 12,
   "id": "17f544da",
   "metadata": {},
   "outputs": [],
   "source": [
    "from google.cloud import bigquery\n",
    "client = bigquery.Client(project=PROJECT_ID,location='us-central1')\n",
    "job_config = bigquery.LoadJobConfig(\n",
    "                                    schema=[\n",
    "                                        bigquery.SchemaField(\"longitude\",           \"FLOAT\"),\n",
    "                                        bigquery.SchemaField(\"latitude\",            \"FLOAT\"),\n",
    "                                        bigquery.SchemaField(\"housing_median_age\",  \"FLOAT\"),\n",
    "                                        bigquery.SchemaField(\"total_rooms\",         \"FLOAT\"),\n",
    "                                        bigquery.SchemaField(\"total_bedrooms\",      \"FLOAT\"),\n",
    "                                        bigquery.SchemaField(\"population\",          \"FLOAT\"),\n",
    "                                        bigquery.SchemaField(\"households\",          \"FLOAT\"),\n",
    "                                        bigquery.SchemaField(\"median_income\",       \"FLOAT\"),\n",
    "                                        bigquery.SchemaField(\"median_house_value\",  \"FLOAT\")\n",
    "                                    ],\n",
    "                                    skip_leading_rows = 1,\n",
    "                                    # The source format defaults to CSV, so the line below is optional.\n",
    "                                    source_format = bigquery.SourceFormat.CSV,\n",
    "                                )\n",
    "uri      = 'gs://gcp-practice-0123-18jun2023/custom-trained-model/training-data/california_housing_train.csv'\n",
    "table_id = 'gcp-practice-0123.dataset2.california_housing_test'\n",
    "load_job = client.load_table_from_uri(source_uris = \"gs://gcp-practice-0123-18jun2023/custom-trained-model/training-data\",\n",
    "                                      destination = table_id,\n",
    "                                      job_config  = job_config)  # Make an API request."
   ]
  },
  {
   "cell_type": "code",
   "execution_count": null,
   "id": "196d427d",
   "metadata": {},
   "outputs": [],
   "source": [
    "load_job.allow_jagged_rows"
   ]
  },
  {
   "cell_type": "code",
   "execution_count": 15,
   "id": "01873a66",
   "metadata": {},
   "outputs": [],
   "source": [
    "model = aiplatform.Model('projects/553411498874/locations/us-central1/models/2607041025503395840@1')"
   ]
  },
  {
   "cell_type": "code",
   "execution_count": null,
   "id": "e5ee4ed5",
   "metadata": {},
   "outputs": [],
   "source": []
  },
  {
   "cell_type": "code",
   "execution_count": null,
   "id": "d9073f01",
   "metadata": {},
   "outputs": [],
   "source": []
  },
  {
   "cell_type": "code",
   "execution_count": null,
   "id": "ec223e33",
   "metadata": {},
   "outputs": [],
   "source": [
    "model_obj.batch_predict()"
   ]
  },
  {
   "cell_type": "code",
   "execution_count": null,
   "id": "73a4ab05",
   "metadata": {},
   "outputs": [],
   "source": []
  },
  {
   "cell_type": "code",
   "execution_count": 18,
   "id": "e876b265",
   "metadata": {},
   "outputs": [
    {
     "name": "stdout",
     "output_type": "stream",
     "text": [
      "Creating BatchPredictionJob\n",
      "BatchPredictionJob created. Resource name: projects/553411498874/locations/us-central1/batchPredictionJobs/5448048367231827968\n",
      "To use this BatchPredictionJob in another session:\n",
      "bpj = aiplatform.BatchPredictionJob('projects/553411498874/locations/us-central1/batchPredictionJobs/5448048367231827968')\n",
      "View Batch Prediction Job:\n",
      "https://console.cloud.google.com/ai/platform/locations/us-central1/batch-predictions/5448048367231827968?project=553411498874\n",
      "BatchPredictionJob projects/553411498874/locations/us-central1/batchPredictionJobs/5448048367231827968 current state:\n",
      "JobState.JOB_STATE_RUNNING\n",
      "BatchPredictionJob projects/553411498874/locations/us-central1/batchPredictionJobs/5448048367231827968 current state:\n",
      "JobState.JOB_STATE_RUNNING\n",
      "BatchPredictionJob projects/553411498874/locations/us-central1/batchPredictionJobs/5448048367231827968 current state:\n",
      "JobState.JOB_STATE_RUNNING\n",
      "BatchPredictionJob projects/553411498874/locations/us-central1/batchPredictionJobs/5448048367231827968 current state:\n",
      "JobState.JOB_STATE_RUNNING\n",
      "BatchPredictionJob projects/553411498874/locations/us-central1/batchPredictionJobs/5448048367231827968 current state:\n",
      "JobState.JOB_STATE_RUNNING\n",
      "BatchPredictionJob projects/553411498874/locations/us-central1/batchPredictionJobs/5448048367231827968 current state:\n",
      "JobState.JOB_STATE_RUNNING\n",
      "BatchPredictionJob projects/553411498874/locations/us-central1/batchPredictionJobs/5448048367231827968 current state:\n",
      "JobState.JOB_STATE_RUNNING\n",
      "BatchPredictionJob projects/553411498874/locations/us-central1/batchPredictionJobs/5448048367231827968 current state:\n",
      "JobState.JOB_STATE_RUNNING\n",
      "BatchPredictionJob projects/553411498874/locations/us-central1/batchPredictionJobs/5448048367231827968 current state:\n",
      "JobState.JOB_STATE_RUNNING\n",
      "BatchPredictionJob projects/553411498874/locations/us-central1/batchPredictionJobs/5448048367231827968 current state:\n",
      "JobState.JOB_STATE_RUNNING\n",
      "BatchPredictionJob projects/553411498874/locations/us-central1/batchPredictionJobs/5448048367231827968 current state:\n",
      "JobState.JOB_STATE_SUCCEEDED\n",
      "BatchPredictionJob run completed. Resource name: projects/553411498874/locations/us-central1/batchPredictionJobs/5448048367231827968\n"
     ]
    }
   ],
   "source": [
    "from google.cloud import aiplatform\n",
    "aiplatform.init(project=PROJECT_ID)\n",
    "model_obj = aiplatform.Model('projects/553411498874/locations/us-central1/models/2607041025503395840@1')\n",
    "batch_predict_job = model_obj.batch_predict( job_display_name            = 'model_display_name_in',\n",
    "                                             bigquery_source             = 'bq://gcp-practice-0123.dataset2.california_housing_test',\n",
    "                                             bigquery_destination_prefix = 'gcp-practice-0123.dataset2',\n",
    "                                             predictions_format          = 'bigquery',\n",
    "                                             machine_type                = \"e2-standard-4\"\n",
    "                                           )"
   ]
  },
  {
   "cell_type": "code",
   "execution_count": null,
   "id": "7be3ba58",
   "metadata": {},
   "outputs": [],
   "source": [
    "batch_predict_job."
   ]
  }
 ],
 "metadata": {
  "kernelspec": {
   "display_name": "Python 3 (ipykernel)",
   "language": "python",
   "name": "python3"
  },
  "language_info": {
   "codemirror_mode": {
    "name": "ipython",
    "version": 3
   },
   "file_extension": ".py",
   "mimetype": "text/x-python",
   "name": "python",
   "nbconvert_exporter": "python",
   "pygments_lexer": "ipython3",
   "version": "3.9.13"
  }
 },
 "nbformat": 4,
 "nbformat_minor": 5
}
